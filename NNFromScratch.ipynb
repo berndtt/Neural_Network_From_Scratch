{
 "cells": [
  {
   "cell_type": "code",
   "execution_count": 1,
   "metadata": {},
   "outputs": [],
   "source": [
    "# imports\n",
    "import numpy as np\n",
    "import numpy.linalg as la\n",
    "import numpy.random as rnd\n",
    "import matplotlib.pyplot as plt"
   ]
  },
  {
   "cell_type": "markdown",
   "metadata": {},
   "source": [
    "## Auxiliary class for activation functions and their derivatives"
   ]
  },
  {
   "cell_type": "code",
   "execution_count": 2,
   "metadata": {},
   "outputs": [],
   "source": [
    "class NNUtils():\n",
    "    @staticmethod \n",
    "    def sigmoid(x):\n",
    "        return 1 / (1 + np.exp(-x))\n",
    "\n",
    "    @classmethod \n",
    "    def dsigmoid(cls, x):\n",
    "        sig = lambda x : (1 / (1 + np.exp(-x)))\n",
    "        return np.multiply(cls.sigmoid(x), np.ones(len(x))-cls.sigmoid(x))\n",
    "    \n",
    "    @staticmethod \n",
    "    def softmax(x):\n",
    "        if np.sum(np.exp(x)) == 0:\n",
    "            print(x)\n",
    "        return np.divide(np.exp(x),np.sum(np.exp(x)))\n",
    "    \n",
    "    @staticmethod \n",
    "    def RELU(x):\n",
    "        return np.maximum(x, 0)\n",
    "    \n",
    "    @staticmethod \n",
    "    def dRELU(x):\n",
    "        return [(xi > 0) * 1 for xi in x]"
   ]
  },
  {
   "cell_type": "markdown",
   "metadata": {},
   "source": [
    "## Neural Network\n",
    "\n",
    "We train a neural network with a specified format using backpropagation and gradient descent.\n",
    "\n",
    "Parameters:\n",
    "\n",
    "|   \t|   \t|   \t|   \t|   \t|\n",
    "|---\t|---\t|---\t|---\t|---\t|\n",
    "|   **format**\t|   number and size of layers\t|   array\t|   required\t|   \t|\n",
    "|   **eta**\t|   learning rate\t|   float\t|   optional\t|   \t|\n",
    "|   \t|   \t|   \t|   \t|   \t|\n",
    "\n",
    "        "
   ]
  },
  {
   "cell_type": "code",
   "execution_count": 3,
   "metadata": {},
   "outputs": [],
   "source": [
    "class Neural_Network(object):\n",
    "    \"\"\"\n",
    "    Feedforward Neural Network\n",
    "    \"\"\"\n",
    "    \n",
    "    def __init__(self, format, eta=0.05):\n",
    "        self.__format = format              # vector of shapes\n",
    "        self.__l = len(format)-1            # number of layers-1\n",
    "        self.__eta = eta\n",
    "        \n",
    "        # initialise random parameters\n",
    "        self.__w = []\n",
    "        self.__b = []\n",
    "        for i in range(self.__l):\n",
    "            self.__w.append(rnd.randn(self.__format[i+1], self.__format[i]))\n",
    "            self.__b.append(rnd.rand(self.__format[i+1]))\n",
    "            #self.__b.append(np.zeros((self.__format[i+1], 1)).reshape(self.__format[i+1],))\n",
    "        self.i = 0\n",
    "        \n",
    "    def _activate(self, a, i):\n",
    "        return NNUtils.sigmoid(np.dot(self.__w[i], a) + self.__b[i])\n",
    "    \n",
    "    def cost(self, x, y):\n",
    "        if x.ndim > 1:\n",
    "            n = x.shape[1]\n",
    "        else:\n",
    "            x = x.reshape([len(x), 1])\n",
    "            n = 1\n",
    "        costvect = np.zeros(n)\n",
    "        for i in range(n):\n",
    "            #costvect[i] = la.norm(y[:,i]-self.evaluate(x[:,i]))\n",
    "            costvect[i] = -(1/n)*np.dot(y[:,i],np.log(self.evaluate(x[:,i])))\n",
    "        return np.sum(costvect)/np.float(n)\n",
    "    \n",
    "    def evaluate(self, x):\n",
    "        a = x\n",
    "        for i in range(self.__l):\n",
    "            a = self._activate(a, i)\n",
    "        return a\n",
    "    \n",
    "    def backpropagate(self, x, y, eta=None):\n",
    "        if eta:\n",
    "            self.__eta = eta\n",
    "        a = [x]\n",
    "        d = []\n",
    "        \n",
    "        # Forward step\n",
    "        for i in range(self.__l):\n",
    "            z = np.dot(self.__w[i], a[i])+self.__b[i]\n",
    "            a.append(NNUtils.sigmoid(z))\n",
    "            d.append(NNUtils.dsigmoid(z))    \n",
    "            \n",
    "        # Backpropagate\n",
    "        delta = [np.multiply(d[self.__l-1], a[-1]-y)]\n",
    "        for j in range(self.__l-2, -1, -1):\n",
    "            delta.insert(0, np.multiply(d[j], np.dot(self.__w[j+1].transpose(), delta[0])))\n",
    "            \n",
    "        # Gradient step\n",
    "        for j in range(self.__l-1, -1, -1):\n",
    "            self.__w[j] -= self.__eta*np.outer(delta[j], a[j])\n",
    "            self.__b[j] -= self.__eta*delta[j]\n",
    "            \n",
    "    def train(self, X, Y, w=None, b=None, iters=100000):\n",
    "        if w:\n",
    "            self.__w = w\n",
    "        if b:\n",
    "            self.__b = b\n",
    "        n = X.shape[1]\n",
    "        costs = np.zeros(iters)\n",
    "        for i in range(iters):\n",
    "            if self.i % (iters/10) == 0:\n",
    "                print(f\"{self.i*100/iters}% done\")\n",
    "            self.i = self.i+1\n",
    "            \n",
    "            for j in range(n):\n",
    "                x, y = X[:, j], Y[:, j]\n",
    "                self.backpropagate(x, y)\n",
    "            costs[i] = self.cost(X, Y)\n",
    "        return costs"
   ]
  },
  {
   "cell_type": "markdown",
   "metadata": {},
   "source": [
    "## Evaluation of implementation on a toy data set"
   ]
  },
  {
   "cell_type": "code",
   "execution_count": 4,
   "metadata": {},
   "outputs": [],
   "source": [
    "# Create dataset (Example from Deep Learning: An introduction for applied mathematicians, Catherine F. Higham, Desmond J. Higham)\n",
    "X = np.array([[0.1, 0.3, 0.1, 0.6, 0.4, 0.6, 0.5, 0.9, 0.4, 0.7], [0.1, 0.4, 0.5, 0.9, 0.2, 0.3, 0.6, 0.2, 0.4, 0.6]])\n",
    "y = np.concatenate((np.ones(5), np.zeros(5))).reshape(1, 10)"
   ]
  },
  {
   "cell_type": "code",
   "execution_count": 5,
   "metadata": {},
   "outputs": [
    {
     "data": {
      "image/png": "[encoded data removed]",
      "text/plain": [
       "<Figure size 432x288 with 1 Axes>"
      ]
     },
     "metadata": {
      "needs_background": "light"
     },
     "output_type": "display_data"
    }
   ],
   "source": [
    "# plot data set with colour representing the label\n",
    "plt.title(\"Data points with label\")\n",
    "plt.scatter(X[0,:5], X[1,:5], color=\"blue\")\n",
    "plt.scatter(X[0,5:], X[1,5:], color=\"red\")\n",
    "plt.show()"
   ]
  },
  {
   "cell_type": "code",
   "execution_count": 6,
   "metadata": {},
   "outputs": [
    {
     "name": "stdout",
     "output_type": "stream",
     "text": [
      "0.0% done\n",
      "10.0% done\n",
      "20.0% done\n",
      "30.0% done\n",
      "40.0% done\n",
      "50.0% done\n",
      "60.0% done\n",
      "70.0% done\n",
      "80.0% done\n",
      "90.0% done\n"
     ]
    }
   ],
   "source": [
    "# training the neural network\n",
    "network = Neural_Network([2, 5, 5, 1])\n",
    "cost = network.train(X, y, iters=10000)"
   ]
  },
  {
   "cell_type": "code",
   "execution_count": 7,
   "metadata": {},
   "outputs": [
    {
     "data": {
      "image/png": "[encoded data removed]",
      "text/plain": [
       "<Figure size 1080x360 with 2 Axes>"
      ]
     },
     "metadata": {
      "needs_background": "light"
     },
     "output_type": "display_data"
    }
   ],
   "source": [
    "# visualising the decision boundary and graph of cost function\n",
    "xx = np.linspace(0, 1, 100)\n",
    "yy = np.linspace(0, 1, 100)\n",
    "XX, YY = np.meshgrid(xx, yy)\n",
    "ZZ = np.zeros(XX.shape)\n",
    "for i in range(100):\n",
    "    for j in range(100):\n",
    "        ZZ[j,i]= network.evaluate(np.array([xx[i], yy[j]]))[0]\n",
    "        \n",
    "fig, ax = plt.subplots(1, 2, figsize=(15, 5))\n",
    "\n",
    "ax[0].set_title(\"Decision boundary of the Neural Network\")\n",
    "ax[0].contour(XX,YY,ZZ, levels=[0.5])\n",
    "ax[0].scatter(X[0,:5], X[1,:5], color='blue')\n",
    "ax[0].scatter(X[0,5:], X[1,5:], color='red')\n",
    "\n",
    "ax[1].set_title(\"Cost plotted as a function of the iterations of GD\")\n",
    "ax[1].plot(cost[1:])\n",
    "plt.show()"
   ]
  }
 ],
 "metadata": {
  "kernelspec": {
   "display_name": "Python 3",
   "language": "python",
   "name": "python3"
  },
  "language_info": {
   "codemirror_mode": {
    "name": "ipython",
    "version": 3
   },
   "file_extension": ".py",
   "mimetype": "text/x-python",
   "name": "python",
   "nbconvert_exporter": "python",
   "pygments_lexer": "ipython3",
   "version": "3.8.5"
  },
  "vscode": {
   "interpreter": {
    "hash": "f54ecc8733601aa36e7a4a29f47c45cc935daa74411095a67418172c47a306a0"
   }
  }
 },
 "nbformat": 4,
 "nbformat_minor": 4
}
